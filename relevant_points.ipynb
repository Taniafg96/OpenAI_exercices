{
 "cells": [
  {
   "cell_type": "markdown",
   "metadata": {},
   "source": [
    "# **Relevant Points From Text**"
   ]
  },
  {
   "cell_type": "markdown",
   "metadata": {},
   "source": [
    "## Libraries"
   ]
  },
  {
   "cell_type": "code",
   "execution_count": null,
   "metadata": {},
   "outputs": [],
   "source": [
    "import os\n",
    "import openai\n",
    "from PyPDF2 import PdfReader"
   ]
  },
  {
   "cell_type": "markdown",
   "metadata": {},
   "source": [
    "## Code"
   ]
  },
  {
   "cell_type": "markdown",
   "metadata": {},
   "source": [
    "### Get Text from PDF"
   ]
  },
  {
   "cell_type": "code",
   "execution_count": 27,
   "metadata": {},
   "outputs": [],
   "source": [
    "reader = PdfReader(\"assets/documents/BOE-A-2023-21300.pdf\")\n",
    "number_of_pages = len(reader.pages)\n",
    "pages_text = []\n",
    "for page in range(number_of_pages):\n",
    "    pages_text.append(reader.pages[page].extract_text())\n",
    "\n",
    "text = ' '.join(pages_text)"
   ]
  },
  {
   "cell_type": "markdown",
   "metadata": {},
   "source": [
    "### Get Relevant Points"
   ]
  },
  {
   "cell_type": "code",
   "execution_count": 28,
   "metadata": {},
   "outputs": [],
   "source": [
    "openai.api_key = os.getenv('API_KEY')\n",
    "response = openai.ChatCompletion.create(\n",
    "    model=\"gpt-3.5-turbo\",\n",
    "    messages=[{\"role\": \"system\", \n",
    "               \"content\": \"You going to give more important ideas from a text. Explained as simply as possible, in spanish\"},\n",
    "              {\"role\": \"user\",\n",
    "               \"content\": text\n",
    "              }])"
   ]
  },
  {
   "cell_type": "code",
   "execution_count": 29,
   "metadata": {},
   "outputs": [
    {
     "data": {
      "text/plain": [
       "['En esta resolución del Ministerio para la Transición Ecológica y el Reto Demográfico se establecen los nuevos precios de venta de los gases licuados del petróleo por canalización',\n",
       " ' La ley establece que el Ministro puede establecer tarifas y precios para los consumidores finales y distribuidores de gases combustibles por canalización',\n",
       " ' Los precios se determinan a través de la cotización internacional de los gases licuados del petróleo y los costes de comercialización, que se actualizan de manera mensual y anual, respectivamente',\n",
       " ' Los precios establecidos en esta resolución se aplicarán a los suministros pendientes de ejecución a partir del 17 de octubre de 2023',\n",
       " ' Además, se especifica que los precios no incluyen impuestos y se establecen las cotizaciones internacionales y los resultados intermedios tomados en cuenta para su cálculo',\n",
       " ' Las empresas distribuidoras deben tomar medidas para determinar los consumos de sus clientes y aplicar correctamente los precios establecidos',\n",
       " ' La resolución es efectiva a partir del 17 de octubre de 2023 y se puede interponer un recurso de alzada ante el Secretario de Estado de Energía',\n",
       " '']"
      ]
     },
     "execution_count": 29,
     "metadata": {},
     "output_type": "execute_result"
    }
   ],
   "source": [
    "response['choices'][0]['message']['content'].split('.')"
   ]
  },
  {
   "cell_type": "code",
   "execution_count": null,
   "metadata": {},
   "outputs": [],
   "source": []
  }
 ],
 "metadata": {
  "kernelspec": {
   "display_name": "env",
   "language": "python",
   "name": "python3"
  },
  "language_info": {
   "codemirror_mode": {
    "name": "ipython",
    "version": 3
   },
   "file_extension": ".py",
   "mimetype": "text/x-python",
   "name": "python",
   "nbconvert_exporter": "python",
   "pygments_lexer": "ipython3",
   "version": "3.10.12"
  }
 },
 "nbformat": 4,
 "nbformat_minor": 2
}
